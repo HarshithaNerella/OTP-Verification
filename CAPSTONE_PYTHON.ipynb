{
  "nbformat": 4,
  "nbformat_minor": 0,
  "metadata": {
    "colab": {
      "provenance": []
    },
    "kernelspec": {
      "name": "python3",
      "display_name": "Python 3"
    },
    "language_info": {
      "name": "python"
    }
  },
  "cells": [
    {
      "cell_type": "markdown",
      "source": [
        "#**Problem Statement**\n",
        "You are tasked with developing an OTP (One-Time Password) verification system in Python. The system should generate a 6-digit OTP and send it to the user's email address for verification. Upon receiving the OTP, the user should enter it into the system for validation. If the entered OTP matches the generated OTP, access should be granted; otherwise, access should be denied.\n",
        "\n",
        "**Project Requirements:**\n",
        "\n",
        "Implement a function to generate a 6-digit OTP randomly.\n",
        "\n",
        "Develop a function to simulate sending the OTP to the user's email address.\n",
        "\n",
        "Create a function to prompt the user to enter the OTP received in their email.\n",
        "\n",
        "Implement a function to verify if the entered OTP matches the generated OTP.\n",
        "\n",
        "Ensure proper error handling and user-friendly prompts throughout the system.\n",
        "\n",
        "Allow the user to retry OTP entry in case of incorrect input."
      ],
      "metadata": {
        "id": "RUZwwb_m6yuI"
      }
    },
    {
      "cell_type": "markdown",
      "source": [
        "**Project Deliverables:**\n",
        "\n",
        "Python script containing the implementation of the OTP verification system.\n",
        "\n",
        "Documentation explaining the functionality of each function, how to run the program, and any dependencies required.\n",
        "\n",
        "Test cases to ensure the system functions correctly under various scenarios, including correct and incorrect OTP entries.\n",
        "\n",
        "Optionally, you can create a simple GUI interface for the OTP verification system to enhance user experience.\n",
        "\n",
        "**Project Evaluation:**\n",
        "\n",
        "Your project will be evaluated based on the following criteria:\n",
        "\n",
        "Correctness and functionality of the OTP generation, sending, and verification process.\n",
        "\n",
        "Code quality, including adherence to Python best practices, readability, and documentation.\n",
        "\n",
        "Error handling and user interaction aspects of the system.\n",
        "\n",
        "Robustness and reliability of the system under different scenarios.\n",
        "\n",
        "Optional: Creativity and usability of the GUI interface (if implemented).\n",
        "\n",
        "Note: Ensure that you handle sensitive information (such as email addresses and OTPs) securely and responsibly, and avoid hardcoding any sensitive data or credentials in your code.\n",
        "\n"
      ],
      "metadata": {
        "id": "6ef_OkIHia5Z"
      }
    },
    {
      "cell_type": "code",
      "source": [
        "pip install python-dotenv\n"
      ],
      "metadata": {
        "colab": {
          "base_uri": "https://localhost:8080/"
        },
        "id": "paCYW2LBqoR_",
        "outputId": "ee0e1b48-5013-48e3-81c1-8b4189c7fea4"
      },
      "execution_count": null,
      "outputs": [
        {
          "output_type": "stream",
          "name": "stdout",
          "text": [
            "Collecting python-dotenv\n",
            "  Downloading python_dotenv-1.0.1-py3-none-any.whl (19 kB)\n",
            "Installing collected packages: python-dotenv\n",
            "Successfully installed python-dotenv-1.0.1\n"
          ]
        }
      ]
    },
    {
      "cell_type": "code",
      "execution_count": null,
      "metadata": {
        "colab": {
          "base_uri": "https://localhost:8080/"
        },
        "id": "BRk0KizgpkVC",
        "outputId": "ad397004-5baf-4ac0-daf8-8db15d1ef92c"
      },
      "outputs": [
        {
          "output_type": "stream",
          "name": "stdout",
          "text": [
            "Enter Your Name:harshitha\n",
            "Enter Your Email Address:nerellaharshitha09@gmail.com\n",
            "OTP has been sent to your email id verify it by enetring OTP\n",
            "34567890\n",
            "Incorrect OTP,You have 2 chances.\n",
            "456789\n",
            "Incorrect OTP,You have 1 chances.\n",
            "34567890\n",
            "You have no more chances.Click Resend OTP\n"
          ]
        }
      ],
      "source": [
        "# Importing all Libraries that are used for project\n",
        "import random\n",
        "import re\n",
        "import smtplib\n",
        "from dotenv import load_dotenv\n",
        "import os\n",
        "\n",
        "\n",
        "# Loading environment file\n",
        "load_dotenv(r'/content/dotenv.env')\n",
        "\n",
        "# Creating a function to send otp and named as send_otp\n",
        "def send_otp(email,otp,name):\n",
        "\n",
        "    # Getting the mail and password from env file which indicates from which email we are sending otp\n",
        "    env_email=os.getenv('EMAIL_ADDRESS')\n",
        "    env_password=os.getenv('EMAIL_PASSWORD')\n",
        "\n",
        "    # Creating our own server based on our gmail base\n",
        "    server=smtplib.SMTP('smtp.gmail.com',587)\n",
        "    server.starttls()\n",
        "\n",
        "    # Providing login credentials\n",
        "    server.login(env_email,env_password)\n",
        "\n",
        "    # Subject of the mail\n",
        "    subject='OTP VERIFICATION FOR GRANTING ACCESS'\n",
        "\n",
        "    # Body of the mail\n",
        "    body=f'Hello {name}, Your OTP is {otp}'\n",
        "\n",
        "    # Message of the mail\n",
        "    msg=f'Subject : {subject}\\n\\n{body}'\n",
        "\n",
        "    # Sending OTP\n",
        "    server.sendmail(env_email,email,msg)\n",
        "    server.quit()\n",
        "\n",
        "\n",
        "# Creating a function to generate otp and named as generate_otp\n",
        "def generate_otp():\n",
        "    numbers=[1,2,3,4,5,6,7,8,9,0]\n",
        "    str1=''\n",
        "\n",
        "    # Using forloop generating the otp using random module\n",
        "    for i in range(6):\n",
        "        rand_num=random.choice(numbers)\n",
        "        str1=str1+str(rand_num)\n",
        "    return str1\n",
        "\n",
        "\n",
        "# Creating a function to verify otp and named as verify_otp\n",
        "def verify_otp(rand_otp):\n",
        "\n",
        "  # Using for loop to give 3 chances\n",
        "    for i in range(3):\n",
        "        entered_otp=input()\n",
        "        # If entered_otp is equal to sent otp then print access granted\n",
        "        if(entered_otp==rand_otp):\n",
        "            print('Your access is Granted!!!!')\n",
        "            break\n",
        "        # If entered_otp not equal to sent otp then giving 3 chances\n",
        "        else:\n",
        "            k=3-i-1\n",
        "\n",
        "            # If chances are completed then print no chances click resend otp\n",
        "            if(k==0):\n",
        "                print(f'You have no more chances.Click Resend OTP')\n",
        "            else:\n",
        "                print(f'Incorrect OTP,You have {3-i-1} chances.')\n",
        "                continue\n",
        "\n",
        "def main():\n",
        "  # Enter name of the person\n",
        "  name=input('Enter Your Name:')\n",
        "\n",
        "  # Enter email of the person\n",
        "  email=input('Enter Your Email Address:')\n",
        "\n",
        "  # Creating pattern for gmail\n",
        "  pattern=r'^(?i)[a-z0-9._%+-]+@[a-z0-9.-]+\\.[a-z]{2,}$'\n",
        "\n",
        "  # Cheking for matched pattern\n",
        "  matched=re.match(pattern,email)\n",
        "\n",
        "  # If pattern matched then it calls the generate_otp,send_otp and verify_otp\n",
        "  if(matched):\n",
        "    rand_otp=generate_otp()\n",
        "    send_otp(email,rand_otp,name)\n",
        "    print('OTP has been sent to your email id verify it by enetring OTP')\n",
        "    verify_otp(rand_otp)\n",
        "\n",
        "  # If not matched prints incorect email\n",
        "  else:\n",
        "    print('Incorrect Email Address Format.Please enter a Valid Email.')\n",
        "if __name__=='__main__':\n",
        "  main()"
      ]
    }
  ]
}